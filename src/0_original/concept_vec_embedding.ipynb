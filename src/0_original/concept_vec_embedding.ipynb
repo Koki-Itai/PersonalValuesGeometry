{
 "cells": [
  {
   "cell_type": "code",
   "execution_count": 2,
   "metadata": {},
   "outputs": [
    {
     "name": "stderr",
     "output_type": "stream",
     "text": [
      "/home/itai/research/linear_rep_geometry/.venv/lib/python3.12/site-packages/tqdm/auto.py:21: TqdmWarning: IProgress not found. Please update jupyter and ipywidgets. See https://ipywidgets.readthedocs.io/en/stable/user_install.html\n",
      "  from .autonotebook import tqdm as notebook_tqdm\n"
     ]
    }
   ],
   "source": [
    "import argparse\n",
    "import json\n",
    "import logging\n",
    "import os\n",
    "import random\n",
    "import re\n",
    "import warnings\n",
    "\n",
    "import torch\n",
    "from torch import nn\n",
    "from tqdm import tqdm\n",
    "from transformers import PreTrainedTokenizer, AutoModelForCausalLM, AutoTokenizer\n",
    "\n",
    "import linear_rep_geometry as lrg\n",
    "\n",
    "from typing import List, Tuple\n",
    "\n",
    "import matplotlib.pyplot as plt\n",
    "import numpy as np"
   ]
  },
  {
   "cell_type": "code",
   "execution_count": null,
   "metadata": {},
   "outputs": [],
   "source": [
    "all_concept_vectors = []\n",
    "inner_product_matrix_path = os.path.join(\n",
    "    inner_product_matrix_path, \"concept_vector.npy\"\n",
    ")\n",
    "os.makedirs(os.path.dirname(inner_product_matrix_path), exist_ok=True)\n",
    "np.save(\n",
    "    inner_product_matrix_path,\n",
    "    [concept_vector.cpu().numpy() for concept_vector in all_concept_vectors],\n",
    ")"
   ]
  },
  {
   "cell_type": "code",
   "execution_count": 3,
   "metadata": {},
   "outputs": [],
   "source": [
    "PROMPT_TEMPLATES = {\n",
    "    \"reflection\": \"Consider the deeper meaning behind this: {}\\nThis text reflects values related to:\",\n",
    "    \"analysis\": \"Analyzing the underlying principles in: {}\\nThe core values expressed here are:\",\n",
    "    \"implicit\": \"Looking at the implicit meaning of: {}\\nThe fundamental values shown are:\",\n",
    "    \"explicit\": \"What values are represented in this text: {}\\nThe text demonstrates values of:\",\n",
    "    \"bare\": \"{}\",\n",
    "    \"theme\": \"What is the main theme in this text: {}\\nKey themes include:\",\n",
    "    \"topic\": \"Identify the primary topics discussed in: {}\\nMain topics covered are:\",\n",
    "}"
   ]
  },
  {
   "cell_type": "code",
   "execution_count": 4,
   "metadata": {},
   "outputs": [],
   "source": [
    "model_path = \"meta-llama/Llama-3.2-3B-Instruct\"  # [meta-llama/Llama-3.1-8B-Instruct, meta-llama/Llama-2-7b-hf, meta-llama/Llama-3.2-3B-Instruct]\n",
    "dataset_type = \"valuenet\"  # [valuenet]\n",
    "concept_direction = \"pos2neg\"  # [pos2neg, pos2neutral]\n",
    "norm_type = \"base\"  # [base, norm_sentence_structure, norm_topic]\n",
    "prompt_type = \"reflection\"  # [bare, reflection, analysis, implicit, explicit]\n",
    "\n",
    "# Basic config\n",
    "model_name = model_path.split('/')[1].lower()\n",
    "num_sample = 1000\n",
    "save_dir = \"tmp_matrices\"\n",
    "counterfactual_output_path = f\"/home/itai/research/linear_rep_geometry/data/ValueNet/schwartz/{concept_direction}/{norm_type}\"\n",
    "analyzed_figure_path = f\"/home/itai/research/linear_rep_geometry/figures/{model_name}/{dataset_type}/{concept_direction}/{norm_type}/{prompt_type}\"\n",
    "generation_random_output_path = f\"/home/itai/research/linear_rep_geometry/generated/{model_name}/{dataset_type}/{concept_direction}/{norm_type}/{prompt_type}/random.json\"\n",
    "generation_counterfactual_output_path = f\"/home/itai/research/linear_rep_geometry/generated/{model_name}/{dataset_type}/{concept_direction}/{norm_type}/{prompt_type}/counterfactual.json\"\n",
    "random_txt_path = f\"/home/itai/research/linear_rep_geometry/data/ValueNet/schwartz/random_pairs/{norm_type}/random_1000_pairs.txt\""
   ]
  },
  {
   "cell_type": "code",
   "execution_count": 5,
   "metadata": {},
   "outputs": [],
   "source": [
    "def get_sequence_pairs(filepath: str, num_samples: int = 1000) -> list[list[str]]:\n",
    "    with open(filepath, encoding=\"utf-8\") as f:\n",
    "        lines = [line.strip() for line in f.readlines() if line.strip()]\n",
    "\n",
    "    if len(lines) > num_samples:\n",
    "        lines = random.sample(lines, num_samples)\n",
    "    pairs = [line.split(\"\\t\") for line in lines]\n",
    "\n",
    "    return pairs\n",
    "\n",
    "def generate_text(\n",
    "    model: nn.Module,\n",
    "    tokenizer: PreTrainedTokenizer,\n",
    "    prompts: list[str],\n",
    "    prompt_type: str = \"bare\",\n",
    "    max_new_tokens: int = 100,\n",
    "    batch_size: int = 16,\n",
    "    max_save_step: int = 1000,\n",
    ") -> list[str]:\n",
    "    prompt_templates = {\n",
    "        \"reflection\": \"Consider the deeper meaning behind this: {}\\nThis text reflects values related to:\",\n",
    "        \"analysis\": \"Analyzing the underlying principles in: {}\\nThe core values expressed here are:\",\n",
    "        \"implicit\": \"Looking at the implicit meaning of: {}\\nThe fundamental values shown are:\",\n",
    "        \"explicit\": \"What values are represented in this text: {}\\nThe text demonstrates values of:\",\n",
    "        \"bare\": \"{}\",\n",
    "        \"theme\": \"What is the main theme in this text: {}\\nKey themes include:\",\n",
    "        \"topic\": \"Identify the primary topics discussed in: {}\\nMain topics covered are:\",\n",
    "    }\n",
    "\n",
    "    if prompt_type not in prompt_templates:\n",
    "        raise ValueError(\n",
    "            f\"Invalid prompt_type: {prompt_type}. Available types: {list(prompt_templates.keys())}\"\n",
    "        )\n",
    "\n",
    "    template = prompt_templates[prompt_type]\n",
    "    formatted_prompts = [template.format(prompt) for prompt in prompts]\n",
    "\n",
    "    if tokenizer.pad_token is None:\n",
    "        tokenizer.pad_token = tokenizer.eos_token\n",
    "\n",
    "    tokenizer.padding_side = \"left\"\n",
    "    generated_texts = []\n",
    "\n",
    "    # max_save_stepをバッチサイズで考慮\n",
    "    effective_max_save_step = max_save_step // batch_size * batch_size\n",
    "\n",
    "    for i in tqdm(\n",
    "        range(0, len(formatted_prompts), batch_size),\n",
    "        desc=\"Generating texts\",\n",
    "        total=len(formatted_prompts) // batch_size\n",
    "        + bool(len(formatted_prompts) % batch_size),\n",
    "    ):\n",
    "        if i > effective_max_save_step:\n",
    "            break\n",
    "        batch_prompts = formatted_prompts[i : i + batch_size]\n",
    "        inputs = tokenizer(\n",
    "            batch_prompts, return_tensors=\"pt\", padding=True, truncation=True\n",
    "        ).to(model.device)\n",
    "\n",
    "        with torch.no_grad():\n",
    "            outputs = model.generate(\n",
    "                **inputs,\n",
    "                max_new_tokens=max_new_tokens,\n",
    "                num_return_sequences=1,\n",
    "                pad_token_id=tokenizer.pad_token_id,\n",
    "                do_sample=True,\n",
    "                temperature=0.7,\n",
    "            )\n",
    "\n",
    "        decoded_outputs = tokenizer.batch_decode(outputs, skip_special_tokens=True)\n",
    "        decoded_inputs = tokenizer.batch_decode(\n",
    "            inputs.input_ids, skip_special_tokens=True\n",
    "        )\n",
    "\n",
    "        batch_generated = [\n",
    "            output[len(input_text) :].strip()\n",
    "            for output, input_text in zip(decoded_outputs, decoded_inputs, strict=False)\n",
    "        ]\n",
    "        generated_texts.extend(batch_generated)\n",
    "\n",
    "    return generated_texts\n",
    "\n",
    "def save_generation_results(\n",
    "    pairs: list[list[str]],\n",
    "    model: nn.Module,\n",
    "    tokenizer: PreTrainedTokenizer,\n",
    "    output_path: str,\n",
    "    concept_name: str,\n",
    "    prompt_type: str,\n",
    "    max_new_tokens: int = 100,\n",
    "    batch_size: int = 8,\n",
    "    max_save_step: int = 1000,\n",
    ") -> None:\n",
    "    concept_texts = [pair[0] for pair in pairs]\n",
    "    non_concept_texts = [pair[1] for pair in pairs]\n",
    "\n",
    "    generated_concept_texts = generate_text(\n",
    "        model,\n",
    "        tokenizer,\n",
    "        concept_texts,\n",
    "        prompt_type,\n",
    "        max_new_tokens,\n",
    "        batch_size,\n",
    "        max_save_step,\n",
    "    )\n",
    "    generated_non_concept_texts = generate_text(\n",
    "        model,\n",
    "        tokenizer,\n",
    "        non_concept_texts,\n",
    "        prompt_type,\n",
    "        max_new_tokens,\n",
    "        batch_size,\n",
    "        max_save_step,\n",
    "    )\n",
    "\n",
    "    results = [\n",
    "        {\n",
    "            \"concept_text\": c_text,\n",
    "            \"non_concept_text\": nc_text,\n",
    "            \"generated_text_concept\": gc_text,\n",
    "            \"generated_text_non_concept\": gnc_text,\n",
    "        }\n",
    "        for c_text, nc_text, gc_text, gnc_text in zip(\n",
    "            concept_texts,\n",
    "            non_concept_texts,\n",
    "            generated_concept_texts,\n",
    "            generated_non_concept_texts,\n",
    "            strict=False,\n",
    "        )\n",
    "    ]\n",
    "\n",
    "    output_path = output_path.split(\".json\")[0] + f\"_{concept_name}.json\"\n",
    "    print(f\"{output_path=}\")\n",
    "    os.makedirs(os.path.dirname(output_path), exist_ok=True)\n",
    "    with open(output_path, \"w\", encoding=\"utf-8\") as f:\n",
    "        json.dump(results, f, ensure_ascii=False, indent=2)"
   ]
  },
  {
   "cell_type": "code",
   "execution_count": 6,
   "metadata": {},
   "outputs": [],
   "source": [
    "def get_hidden_layer_n(model, tokenizer, sequences: list[str], n_layer: int, batch_size:int =4, embedding_strategy: str=\"last\"):\n",
    "    \"\"\"\n",
    "    n_layer層目のの隠れ層の行列を取得する\n",
    "    Returns:\n",
    "        embeddings: shape=(len(sequences), hidden_size)\n",
    "    \"\"\"\n",
    "    total_batches = (len(sequences) + batch_size - 1) // batch_size\n",
    "    pbar = tqdm(\n",
    "        range(0, len(sequences), batch_size),\n",
    "        total=total_batches,\n",
    "        desc=\"Processing embeddings\",\n",
    "        unit=\"batch\",\n",
    "    )\n",
    "    all_embeddings = []\n",
    "    for i in pbar:\n",
    "        batch_texts = sequences[i : i + batch_size]\n",
    "\n",
    "        encoded = tokenizer(\n",
    "            batch_texts,\n",
    "            padding=True,\n",
    "            truncation=True,\n",
    "            return_tensors=\"pt\",\n",
    "            return_attention_mask=True,\n",
    "            max_length=128,\n",
    "        )\n",
    "\n",
    "        device = next(model.parameters()).device\n",
    "        input_ids = encoded.input_ids.to(device)\n",
    "        attention_mask = encoded.attention_mask.to(device)\n",
    "        if embedding_strategy == \"mean\":\n",
    "            with torch.no_grad():\n",
    "                outputs = model(\n",
    "                    input_ids, attention_mask=attention_mask, output_hidden_states=True\n",
    "                )\n",
    "                hidden_states = outputs.hidden_states\n",
    "                layer_embeddings = hidden_states[n_layer] # shape: (batch_size, seq_len, hidden_size)\n",
    "                masked_hidden_state = layer_embeddings * attention_mask.unsqueeze(-1)\n",
    "                sum_hidden_state = masked_hidden_state.sum(dim=1)\n",
    "                count_tokens = attention_mask.sum(dim=1).unsqueeze(-1)\n",
    "                batch_embeddings = sum_hidden_state / count_tokens\n",
    "\n",
    "                all_embeddings.append(batch_embeddings.cpu())\n",
    "\n",
    "                del outputs, hidden_states, layer_embeddings, masked_hidden_state, sum_hidden_state\n",
    "        elif embedding_strategy == \"last\":\n",
    "            with torch.no_grad():\n",
    "                outputs = model(\n",
    "                    input_ids, attention_mask=attention_mask, output_hidden_states=True\n",
    "                )\n",
    "                hidden_states = outputs.hidden_states\n",
    "                layer_embeddings = hidden_states[n_layer]\n",
    "                last_hidden_state = layer_embeddings\n",
    "                last_token_indices = attention_mask.sum(dim=1) - 1\n",
    "                batch_embeddings = last_hidden_state[\n",
    "                    torch.arange(last_hidden_state.size(0)), last_token_indices\n",
    "                ]\n",
    "                all_embeddings.append(batch_embeddings.cpu())\n",
    "                del outputs, hidden_states, layer_embeddings, last_hidden_state\n",
    "        else:\n",
    "            raise ValueError(f\"Invalid embedding_strategy: {embedding_strategy}. Available types: [mean, last]\")\n",
    "    return torch.cat(all_embeddings, dim=0)"
   ]
  },
  {
   "cell_type": "code",
   "execution_count": 7,
   "metadata": {},
   "outputs": [],
   "source": [
    "def get_counterfactual_pairs(filename: str, prompt_type: str, num_sample: int=1000):\n",
    "    \"\"\"\n",
    "    counterfactual pairが格納されたtxtファイルを読み込み、prompt_typeに従ってpromptを生成する\n",
    "    Returns:\n",
    "        base_sequences: list[str]\n",
    "        target_sequences: list[str]\n",
    "    \"\"\"\n",
    "    if prompt_type not in PROMPT_TEMPLATES:\n",
    "        raise ValueError(\n",
    "            f\"Invalid prompt_type: {prompt_type}. Available types: {list(PROMPT_TEMPLATES.keys())}\"\n",
    "        )\n",
    "    prompt_template = PROMPT_TEMPLATES[prompt_type]\n",
    "\n",
    "    # counterfactual pairが格納されたtxtファイルを読み込む\n",
    "    with open(filename) as f:\n",
    "        lines = f.readlines()\n",
    "\n",
    "    if len(lines) > num_sample:\n",
    "        lines = random.sample(lines, num_sample)\n",
    "\n",
    "    text_pairs = []\n",
    "    for line in lines:\n",
    "        if line.strip():\n",
    "            base, target = line.strip().split(\"\\t\")\n",
    "            prefixed_base = prompt_template.format(base) if prompt_template else base\n",
    "            prefixed_target = prompt_template.format(target) if prompt_template else target\n",
    "            text_pairs.append((prefixed_base, prefixed_target))\n",
    "\n",
    "    base_sequences = []\n",
    "    target_sequences = []\n",
    "\n",
    "    for base, target in text_pairs:\n",
    "        base_sequences.append(base)\n",
    "        target_sequences.append(target)\n",
    "\n",
    "    return base_sequences, target_sequences"
   ]
  },
  {
   "cell_type": "code",
   "execution_count": null,
   "metadata": {},
   "outputs": [],
   "source": []
  },
  {
   "cell_type": "code",
   "execution_count": 8,
   "metadata": {},
   "outputs": [],
   "source": [
    "def compute_inner_product_LOO(diff_embeddings, verbose=False):\n",
    "    \"\"\"\n",
    "    Args:\n",
    "        diff_embeddings: counterfactual pairの差分のembedding (shape: (num_sample, hidden_size))\n",
    "    Returns:\n",
    "        inner_product_LOO: Leave-One-Outで計算した内積 (shape: (num_sample, ))\n",
    "    \"\"\"\n",
    "    products = []\n",
    "    for i in range(diff_embeddings.shape[0]):\n",
    "        mask = torch.ones(diff_embeddings.shape[0], dtype=torch.bool, device=diff_embeddings.device)\n",
    "        mask[i] = False\n",
    "        loo_diff_embeddings = diff_embeddings[mask]\n",
    "        mean_loo_diff_embeddings = torch.mean(loo_diff_embeddings, dim=0)  # 対象以外の平均 (概念方向)\n",
    "        loo_mean = mean_loo_diff_embeddings / torch.norm(mean_loo_diff_embeddings)  # 正規化\n",
    "        product = loo_mean @ diff_embeddings[i]  # 対象の表現と概念方向の内積\n",
    "        products.append(product)\n",
    "        if verbose:\n",
    "            print(f\"{loo_diff_embeddings.shape=}\")\n",
    "            print(f\"{mean_loo_diff_embeddings.shape=}\")\n",
    "            print(f\"{loo_mean.shape=}\")\n",
    "    inner_product_LOO = torch.stack(products)\n",
    "    if verbose:\n",
    "        print(f\"{inner_product_LOO.shape=}\")\n",
    "    return inner_product_LOO\n"
   ]
  },
  {
   "cell_type": "markdown",
   "metadata": {},
   "source": [
    "## model, tokenizerの取得"
   ]
  },
  {
   "cell_type": "code",
   "execution_count": 9,
   "metadata": {},
   "outputs": [
    {
     "name": "stderr",
     "output_type": "stream",
     "text": [
      "Loading checkpoint shards: 100%|██████████| 2/2 [00:02<00:00,  1.07s/it]\n"
     ]
    }
   ],
   "source": [
    "device_id = 0\n",
    "device = torch.device(f\"cuda:{device_id}\")\n",
    "model = AutoModelForCausalLM.from_pretrained(model_path, device_map={\"\": device})\n",
    "tokenizer = AutoTokenizer.from_pretrained(model_path, use_fast=False)\n",
    "tokenizer.pad_token = tokenizer.eos_token"
   ]
  },
  {
   "cell_type": "code",
   "execution_count": 10,
   "metadata": {},
   "outputs": [
    {
     "name": "stdout",
     "output_type": "stream",
     "text": [
      "\n",
      "* === Model config === *\n",
      "num_hidden_layers=28\n",
      "unembedding.shape=torch.Size([128256, 3072])\n",
      "========================\n"
     ]
    }
   ],
   "source": [
    "# Basic model config\n",
    "num_hidden_layers = model.config.num_hidden_layers\n",
    "unembedding = model.lm_head.weight.detach()\n",
    "print(\"\\n* === Model config === *\")\n",
    "print(f\"{num_hidden_layers=}\")\n",
    "print(f\"{unembedding.shape=}\")\n",
    "print(\"=\" * 24)\n"
   ]
  },
  {
   "cell_type": "code",
   "execution_count": 11,
   "metadata": {},
   "outputs": [],
   "source": [
    "with open(\"tmp_matrices/filenames.txt\") as f:\n",
    "    filenames = [line.strip() for line in f.readlines()]\n",
    "with open(\"tmp_matrices/concept_names.txt\") as f:\n",
    "    concept_names = [line.strip() for line in f.readlines()]"
   ]
  },
  {
   "cell_type": "code",
   "execution_count": 12,
   "metadata": {},
   "outputs": [
    {
     "data": {
      "text/plain": [
       "1000"
      ]
     },
     "execution_count": 12,
     "metadata": {},
     "output_type": "execute_result"
    }
   ],
   "source": [
    "random_pairs = get_sequence_pairs(random_txt_path, int(num_sample))\n",
    "len(random_pairs)"
   ]
  },
  {
   "cell_type": "code",
   "execution_count": 13,
   "metadata": {},
   "outputs": [],
   "source": [
    "filename = filenames[0]\n",
    "base_sequences, target_sequences = (\n",
    "    get_counterfactual_pairs(\n",
    "        filename, prompt_type=prompt_type, num_sample=int(num_sample)\n",
    "    )\n",
    ")"
   ]
  },
  {
   "cell_type": "code",
   "execution_count": 14,
   "metadata": {},
   "outputs": [
    {
     "name": "stderr",
     "output_type": "stream",
     "text": [
      "Processing embeddings: 100%|██████████| 250/250 [00:31<00:00,  7.94batch/s]\n",
      "Processing embeddings: 100%|██████████| 250/250 [00:31<00:00,  8.03batch/s]\n"
     ]
    }
   ],
   "source": [
    "base_embeddings = get_hidden_layer_n(\n",
    "    model,\n",
    "    tokenizer,\n",
    "    base_sequences,\n",
    "    n_layer=num_hidden_layers,\n",
    "    batch_size=4,\n",
    "    embedding_strategy=\"last\")\n",
    "\n",
    "target_embeddings = get_hidden_layer_n(\n",
    "    model,\n",
    "    tokenizer,\n",
    "    target_sequences,\n",
    "    n_layer=num_hidden_layers,\n",
    "    batch_size=4,\n",
    "    embedding_strategy=\"last\")"
   ]
  },
  {
   "cell_type": "code",
   "execution_count": 15,
   "metadata": {},
   "outputs": [
    {
     "name": "stdout",
     "output_type": "stream",
     "text": [
      "diff_embeddings.shape=torch.Size([1000, 3072])\n",
      "concept_direction_vector.shape=torch.Size([3072])\n"
     ]
    }
   ],
   "source": [
    "diff_embeddings = base_embeddings - target_embeddings\n",
    "diff_embeddings = diff_embeddings / torch.norm(diff_embeddings, dim=1, keepdim=True)\n",
    "concept_direction_vector = torch.mean(diff_embeddings, dim=0)\n",
    "\n",
    "print(f\"{diff_embeddings.shape=}\")\n",
    "print(f\"{concept_direction_vector.shape=}\")"
   ]
  },
  {
   "cell_type": "code",
   "execution_count": 16,
   "metadata": {},
   "outputs": [
    {
     "data": {
      "text/plain": [
       "torch.Size([1000])"
      ]
     },
     "execution_count": 16,
     "metadata": {},
     "output_type": "execute_result"
    }
   ],
   "source": [
    "concept_inner_product_LOO = compute_inner_product_LOO(diff_embeddings)\n",
    "concept_inner_product_LOO.shape"
   ]
  },
  {
   "cell_type": "code",
   "execution_count": 17,
   "metadata": {},
   "outputs": [
    {
     "name": "stderr",
     "output_type": "stream",
     "text": [
      "Processing embeddings:  65%|██████▍   | 162/250 [00:17<00:09,  9.31batch/s]\n"
     ]
    },
    {
     "ename": "KeyboardInterrupt",
     "evalue": "",
     "output_type": "error",
     "traceback": [
      "\u001b[0;31m---------------------------------------------------------------------------\u001b[0m",
      "\u001b[0;31mKeyboardInterrupt\u001b[0m                         Traceback (most recent call last)",
      "Cell \u001b[0;32mIn[17], line 6\u001b[0m\n\u001b[1;32m      1\u001b[0m random_base_sequences, random_target_sequences \u001b[38;5;241m=\u001b[39m (\n\u001b[1;32m      2\u001b[0m     get_counterfactual_pairs(\n\u001b[1;32m      3\u001b[0m         random_txt_path, prompt_type\u001b[38;5;241m=\u001b[39mprompt_type, num_sample\u001b[38;5;241m=\u001b[39m\u001b[38;5;28mint\u001b[39m(num_sample)\n\u001b[1;32m      4\u001b[0m     )\n\u001b[1;32m      5\u001b[0m )\n\u001b[0;32m----> 6\u001b[0m random_base_embeddings \u001b[38;5;241m=\u001b[39m \u001b[43mget_hidden_layer_n\u001b[49m\u001b[43m(\u001b[49m\n\u001b[1;32m      7\u001b[0m \u001b[43m    \u001b[49m\u001b[43mmodel\u001b[49m\u001b[43m,\u001b[49m\n\u001b[1;32m      8\u001b[0m \u001b[43m    \u001b[49m\u001b[43mtokenizer\u001b[49m\u001b[43m,\u001b[49m\n\u001b[1;32m      9\u001b[0m \u001b[43m    \u001b[49m\u001b[43mrandom_base_sequences\u001b[49m\u001b[43m,\u001b[49m\n\u001b[1;32m     10\u001b[0m \u001b[43m    \u001b[49m\u001b[43mn_layer\u001b[49m\u001b[38;5;241;43m=\u001b[39;49m\u001b[43mnum_hidden_layers\u001b[49m\u001b[43m,\u001b[49m\n\u001b[1;32m     11\u001b[0m \u001b[43m    \u001b[49m\u001b[43mbatch_size\u001b[49m\u001b[38;5;241;43m=\u001b[39;49m\u001b[38;5;241;43m4\u001b[39;49m\u001b[43m,\u001b[49m\n\u001b[1;32m     12\u001b[0m \u001b[43m    \u001b[49m\u001b[43membedding_strategy\u001b[49m\u001b[38;5;241;43m=\u001b[39;49m\u001b[38;5;124;43m\"\u001b[39;49m\u001b[38;5;124;43mlast\u001b[39;49m\u001b[38;5;124;43m\"\u001b[39;49m\n\u001b[1;32m     13\u001b[0m \u001b[43m)\u001b[49m\n\u001b[1;32m     15\u001b[0m random_target_embeddings \u001b[38;5;241m=\u001b[39m get_hidden_layer_n(\n\u001b[1;32m     16\u001b[0m     model,\n\u001b[1;32m     17\u001b[0m     tokenizer,\n\u001b[0;32m   (...)\u001b[0m\n\u001b[1;32m     21\u001b[0m     embedding_strategy\u001b[38;5;241m=\u001b[39m\u001b[38;5;124m\"\u001b[39m\u001b[38;5;124mlast\u001b[39m\u001b[38;5;124m\"\u001b[39m\n\u001b[1;32m     22\u001b[0m )\n",
      "Cell \u001b[0;32mIn[6], line 57\u001b[0m, in \u001b[0;36mget_hidden_layer_n\u001b[0;34m(model, tokenizer, sequences, n_layer, batch_size, embedding_strategy)\u001b[0m\n\u001b[1;32m     53\u001b[0m         last_token_indices \u001b[38;5;241m=\u001b[39m attention_mask\u001b[38;5;241m.\u001b[39msum(dim\u001b[38;5;241m=\u001b[39m\u001b[38;5;241m1\u001b[39m) \u001b[38;5;241m-\u001b[39m \u001b[38;5;241m1\u001b[39m\n\u001b[1;32m     54\u001b[0m         batch_embeddings \u001b[38;5;241m=\u001b[39m last_hidden_state[\n\u001b[1;32m     55\u001b[0m             torch\u001b[38;5;241m.\u001b[39marange(last_hidden_state\u001b[38;5;241m.\u001b[39msize(\u001b[38;5;241m0\u001b[39m)), last_token_indices\n\u001b[1;32m     56\u001b[0m         ]\n\u001b[0;32m---> 57\u001b[0m         all_embeddings\u001b[38;5;241m.\u001b[39mappend(\u001b[43mbatch_embeddings\u001b[49m\u001b[38;5;241;43m.\u001b[39;49m\u001b[43mcpu\u001b[49m\u001b[43m(\u001b[49m\u001b[43m)\u001b[49m)\n\u001b[1;32m     58\u001b[0m         \u001b[38;5;28;01mdel\u001b[39;00m outputs, hidden_states, layer_embeddings, last_hidden_state\n\u001b[1;32m     59\u001b[0m \u001b[38;5;28;01melse\u001b[39;00m:\n",
      "\u001b[0;31mKeyboardInterrupt\u001b[0m: "
     ]
    },
    {
     "ename": "",
     "evalue": "",
     "output_type": "error",
     "traceback": [
      "\u001b[1;31m現在のセルまたは前のセルでコードを実行中に、カーネル (Kernel) がクラッシュしました。\n",
      "\u001b[1;31mエラーの原因を特定するには、セル内のコードを確認してください。\n",
      "\u001b[1;31m詳細については<a href='https://aka.ms/vscodeJupyterKernelCrash'>こちら</a>をクリックします。\n",
      "\u001b[1;31m詳細については、Jupyter <a href='command:jupyter.viewOutput'>ログ</a> を参照してください。"
     ]
    }
   ],
   "source": [
    "\n",
    "random_base_sequences, random_target_sequences = (\n",
    "    get_counterfactual_pairs(\n",
    "        random_txt_path, prompt_type=prompt_type, num_sample=int(num_sample)\n",
    "    )\n",
    ")\n",
    "random_base_embeddings = get_hidden_layer_n(\n",
    "    model,\n",
    "    tokenizer,\n",
    "    random_base_sequences,\n",
    "    n_layer=num_hidden_layers,\n",
    "    batch_size=4,\n",
    "    embedding_strategy=\"last\"\n",
    ")\n",
    "\n",
    "random_target_embeddings = get_hidden_layer_n(\n",
    "    model,\n",
    "    tokenizer,\n",
    "    random_target_sequences,\n",
    "    n_layer=num_hidden_layers,\n",
    "    batch_size=4,\n",
    "    embedding_strategy=\"last\"\n",
    ")\n"
   ]
  },
  {
   "cell_type": "code",
   "execution_count": 68,
   "metadata": {},
   "outputs": [
    {
     "name": "stdout",
     "output_type": "stream",
     "text": [
      "random_diff_embeddings.shape=torch.Size([1000, 3072])\n",
      "random_direction_vector.shape=torch.Size([3072])\n"
     ]
    }
   ],
   "source": [
    "random_diff_embeddings = random_base_embeddings - random_target_embeddings\n",
    "random_diff_embeddings = random_diff_embeddings / torch.norm(random_diff_embeddings, dim=1, keepdim=True)\n",
    "random_direction_vector = torch.mean(random_diff_embeddings, dim=0)\n",
    "\n",
    "print(f\"{random_diff_embeddings.shape=}\")\n",
    "print(f\"{random_direction_vector.shape=}\")"
   ]
  },
  {
   "cell_type": "code",
   "execution_count": 70,
   "metadata": {},
   "outputs": [
    {
     "data": {
      "text/plain": [
       "torch.Size([1000])"
      ]
     },
     "execution_count": 70,
     "metadata": {},
     "output_type": "execute_result"
    }
   ],
   "source": [
    "random_inner_product_LOO = compute_inner_product_LOO(random_diff_embeddings)\n",
    "random_inner_product_LOO.shape"
   ]
  },
  {
   "cell_type": "code",
   "execution_count": 90,
   "metadata": {},
   "outputs": [
    {
     "data": {
      "image/png": "[encoded data removed]",
      "text/plain": [
       "<Figure size 600x500 with 1 Axes>"
      ]
     },
     "metadata": {},
     "output_type": "display_data"
    }
   ],
   "source": [
    "def plot_inner_product_distribution(concept_inner_product_LOO, random_inner_product_LOO):\n",
    "    fig = plt.figure(figsize=(6,5))\n",
    "\n",
    "    ax = fig.add_subplot(1, 1, 1)\n",
    "\n",
    "    ax.hist(concept_inner_product_LOO.cpu().numpy(), bins=40, alpha=0.6, color=\"blue\", label=\"counterfactual\", density=True)\n",
    "    ax.hist(random_inner_product_LOO.cpu().numpy(), bins=40, alpha=0.7, color=\"red\", label=\"random\", density=True)\n",
    "\n",
    "    ax.set_title(\"Inner Product Distribution\", fontsize=12, pad=15)\n",
    "    ax.grid(True, alpha=0.3)\n",
    "    for spine in ax.spines.values():\n",
    "        spine.set_visible(False)\n",
    "\n",
    "    plt.legend()\n",
    "    plt.tight_layout()\n",
    "    plt.show()\n",
    "\n",
    "plot_inner_product_distribution(concept_inner_product_LOO, random_inner_product_LOO)\n"
   ]
  }
 ],
 "metadata": {
  "kernelspec": {
   "display_name": ".venv",
   "language": "python",
   "name": "python3"
  },
  "language_info": {
   "codemirror_mode": {
    "name": "ipython",
    "version": 3
   },
   "file_extension": ".py",
   "mimetype": "text/x-python",
   "name": "python",
   "nbconvert_exporter": "python",
   "pygments_lexer": "ipython3",
   "version": "3.12.8"
  }
 },
 "nbformat": 4,
 "nbformat_minor": 2
}
